{
 "cells": [
  {
   "cell_type": "markdown",
   "metadata": {},
   "source": [
    "# Test: Distributed/Statistical Analysis/ANOVA"
   ]
  },
  {
   "cell_type": "markdown",
   "metadata": {},
   "source": [
    "## Analysis of variance\n",
    "Analysis of variance (ANOVA) is used to study the behavior of a quantitative variable to be explained in terms of one or more categorical nominal variables. In the ANOVA setting, the observed variance in a particular variable is partitioned into components attributable to different sources of variation. In its simplest form, ANOVA provides a statistical test of whether the population means of several groups are equal, and therefore generalizes the t-test to more than two groups."
   ]
  },
  {
   "cell_type": "markdown",
   "metadata": {},
   "source": [
    "## Preliminary analysis\n",
    "- Outliers may have a considerable influence on statistical conclusion. They have to be consider carefully, and possibly left out. The identification of outliers may be performed by the median's test (Leys et al., 2013) for instance. \n",
    "\n",
    "- ANOVA relies on two crutial assumptions : the normality of the residuals and the homogeneity of variances. Before interpreting results, we should verify that these assumptions have been met. To assess the normality of the residuals, we can plot a QQplot or use the Kolmogorov-Smirnov's test. If the test fails, we should prefer the nonparametric Kruskal–Wallis test (Ostertagová, Ostertag & Kováč, 2014). To assess the homogeneity of variance, we can perform the Levenne's test. \n",
    "\n",
    "- Cautions: we should check that there is at least 10 measures by cell.    "
   ]
  },
  {
   "cell_type": "markdown",
   "metadata": {},
   "source": [
    "## Parametrization\n",
    "In case of unbalanced data, as it is the case in our data, there are three ways to o calculate the sums of squares for ANOVA, each relying on a specific hypothesis:\n",
    "\n",
    "- *Type I, also called “sequential” sum of squares.* This tests the main effect of the first factor, followed by the main effect of the second factor, after the main effect of the first factor, followed by the interaction effect of the first two factors, after the main effects, and so on... For two factors A and B, we obtain (where SS is sum of squares):\n",
    "    - $SS(A)$ for factor A\n",
    "    - $SS(B~|~A)$ for factor B\n",
    "    - $SS(AB~|~A, B)$ for interaction\n",
    "\n",
    "This tests the main effect of factor A, **ignoring the factor B**. This approah leads to the Simpson paradox. \n",
    "\n",
    "**WARNING : Because of its sequential nature, type I ANOVA will give different results depending on which main effect is considered first.**\n",
    "\n",
    "- *Type II, only main effects.* This type tests for each main effect **controlling for others factors**, no significant interaction being assumed. For two factors A and B, we calculate:\n",
    "    - $SS(A~|~B)$ for factor A\n",
    "    - $SS(B~|~A)$ for factor B\n",
    "    \n",
    "You should test for interaction first $SS(AB~|~A, B) and only if AB is not significant, continue with the analysis for main effects. If there is indeed no interaction, then **type II** is statistically more powerful than **type III.**\n",
    "\n",
    "- *Type III*, tests main effect of factors, **controlling for other factors**. This type tests for the presence of a main effect after the other main effect and interaction.  This approach is therefore valid in the presence of significant interactions. For two factors A and B, we calculate:\n",
    "    - $SS(A~|~B, AB)$ for factor A\n",
    "    - $SS(B~|~A, AB)$ for factor B\n",
    "\n"
   ]
  },
  {
   "cell_type": "markdown",
   "metadata": {},
   "source": [
    "## Implementation\n",
    "\n"
   ]
  },
  {
   "cell_type": "markdown",
   "metadata": {},
   "source": [
    "Download study database from the subproject: sample-data-db-setup"
   ]
  },
  {
   "cell_type": "code",
   "execution_count": 1,
   "metadata": {},
   "outputs": [
    {
     "data": {
      "text/html": [
       "<div>\n",
       "<style scoped>\n",
       "    .dataframe tbody tr th:only-of-type {\n",
       "        vertical-align: middle;\n",
       "    }\n",
       "\n",
       "    .dataframe tbody tr th {\n",
       "        vertical-align: top;\n",
       "    }\n",
       "\n",
       "    .dataframe thead th {\n",
       "        text-align: right;\n",
       "    }\n",
       "</style>\n",
       "<table border=\"1\" class=\"dataframe\">\n",
       "  <thead>\n",
       "    <tr style=\"text-align: right;\">\n",
       "      <th></th>\n",
       "      <th>subjectcode</th>\n",
       "      <th>subjectage</th>\n",
       "      <th>subjectageyears</th>\n",
       "      <th>gender</th>\n",
       "      <th>_3rdventricle</th>\n",
       "      <th>_4thventricle</th>\n",
       "      <th>rightaccumbensarea</th>\n",
       "      <th>leftaccumbensarea</th>\n",
       "      <th>rightamygdala</th>\n",
       "      <th>leftamygdala</th>\n",
       "      <th>...</th>\n",
       "      <th>rs3851179_a</th>\n",
       "      <th>rs17125944_c</th>\n",
       "      <th>rs10498633_t</th>\n",
       "      <th>rs3764650_g</th>\n",
       "      <th>rs3865444_t</th>\n",
       "      <th>rs2718058_g</th>\n",
       "      <th>fdg</th>\n",
       "      <th>pib</th>\n",
       "      <th>av45</th>\n",
       "      <th>tiv</th>\n",
       "    </tr>\n",
       "  </thead>\n",
       "  <tbody>\n",
       "    <tr>\n",
       "      <th>0</th>\n",
       "      <td>desd1</td>\n",
       "      <td>NaN</td>\n",
       "      <td>NaN</td>\n",
       "      <td>M</td>\n",
       "      <td>NaN</td>\n",
       "      <td>NaN</td>\n",
       "      <td>NaN</td>\n",
       "      <td>NaN</td>\n",
       "      <td>NaN</td>\n",
       "      <td>NaN</td>\n",
       "      <td>...</td>\n",
       "      <td>NaN</td>\n",
       "      <td>NaN</td>\n",
       "      <td>NaN</td>\n",
       "      <td>NaN</td>\n",
       "      <td>NaN</td>\n",
       "      <td>NaN</td>\n",
       "      <td>NaN</td>\n",
       "      <td>NaN</td>\n",
       "      <td>NaN</td>\n",
       "      <td>NaN</td>\n",
       "    </tr>\n",
       "    <tr>\n",
       "      <th>1</th>\n",
       "      <td>desd2</td>\n",
       "      <td>63.0</td>\n",
       "      <td>63.0</td>\n",
       "      <td>M</td>\n",
       "      <td>1.7427</td>\n",
       "      <td>1.8381</td>\n",
       "      <td>0.41218</td>\n",
       "      <td>0.46676</td>\n",
       "      <td>0.89412</td>\n",
       "      <td>0.95116</td>\n",
       "      <td>...</td>\n",
       "      <td>NaN</td>\n",
       "      <td>NaN</td>\n",
       "      <td>NaN</td>\n",
       "      <td>NaN</td>\n",
       "      <td>NaN</td>\n",
       "      <td>NaN</td>\n",
       "      <td>NaN</td>\n",
       "      <td>NaN</td>\n",
       "      <td>NaN</td>\n",
       "      <td>NaN</td>\n",
       "    </tr>\n",
       "    <tr>\n",
       "      <th>2</th>\n",
       "      <td>desd3</td>\n",
       "      <td>67.0</td>\n",
       "      <td>67.0</td>\n",
       "      <td>M</td>\n",
       "      <td>2.0299</td>\n",
       "      <td>2.3463</td>\n",
       "      <td>0.37023</td>\n",
       "      <td>0.38063</td>\n",
       "      <td>0.86274</td>\n",
       "      <td>0.89655</td>\n",
       "      <td>...</td>\n",
       "      <td>NaN</td>\n",
       "      <td>NaN</td>\n",
       "      <td>NaN</td>\n",
       "      <td>NaN</td>\n",
       "      <td>NaN</td>\n",
       "      <td>NaN</td>\n",
       "      <td>NaN</td>\n",
       "      <td>NaN</td>\n",
       "      <td>NaN</td>\n",
       "      <td>NaN</td>\n",
       "    </tr>\n",
       "    <tr>\n",
       "      <th>3</th>\n",
       "      <td>desd4</td>\n",
       "      <td>NaN</td>\n",
       "      <td>NaN</td>\n",
       "      <td>M</td>\n",
       "      <td>1.5226</td>\n",
       "      <td>3.2169</td>\n",
       "      <td>0.41779</td>\n",
       "      <td>0.46245</td>\n",
       "      <td>0.86853</td>\n",
       "      <td>0.89788</td>\n",
       "      <td>...</td>\n",
       "      <td>NaN</td>\n",
       "      <td>NaN</td>\n",
       "      <td>NaN</td>\n",
       "      <td>NaN</td>\n",
       "      <td>NaN</td>\n",
       "      <td>NaN</td>\n",
       "      <td>NaN</td>\n",
       "      <td>NaN</td>\n",
       "      <td>NaN</td>\n",
       "      <td>NaN</td>\n",
       "    </tr>\n",
       "    <tr>\n",
       "      <th>4</th>\n",
       "      <td>desd5</td>\n",
       "      <td>71.0</td>\n",
       "      <td>71.0</td>\n",
       "      <td>M</td>\n",
       "      <td>1.9663</td>\n",
       "      <td>2.5945</td>\n",
       "      <td>0.31503</td>\n",
       "      <td>0.30522</td>\n",
       "      <td>0.68437</td>\n",
       "      <td>0.70803</td>\n",
       "      <td>...</td>\n",
       "      <td>NaN</td>\n",
       "      <td>NaN</td>\n",
       "      <td>NaN</td>\n",
       "      <td>NaN</td>\n",
       "      <td>NaN</td>\n",
       "      <td>NaN</td>\n",
       "      <td>NaN</td>\n",
       "      <td>NaN</td>\n",
       "      <td>NaN</td>\n",
       "      <td>NaN</td>\n",
       "    </tr>\n",
       "  </tbody>\n",
       "</table>\n",
       "<p>5 rows × 169 columns</p>\n",
       "</div>"
      ],
      "text/plain": [
       "  subjectcode  subjectage  subjectageyears gender  _3rdventricle  \\\n",
       "0       desd1         NaN              NaN      M            NaN   \n",
       "1       desd2        63.0             63.0      M         1.7427   \n",
       "2       desd3        67.0             67.0      M         2.0299   \n",
       "3       desd4         NaN              NaN      M         1.5226   \n",
       "4       desd5        71.0             71.0      M         1.9663   \n",
       "\n",
       "   _4thventricle  rightaccumbensarea  leftaccumbensarea  rightamygdala  \\\n",
       "0            NaN                 NaN                NaN            NaN   \n",
       "1         1.8381             0.41218            0.46676        0.89412   \n",
       "2         2.3463             0.37023            0.38063        0.86274   \n",
       "3         3.2169             0.41779            0.46245        0.86853   \n",
       "4         2.5945             0.31503            0.30522        0.68437   \n",
       "\n",
       "   leftamygdala ...   rs3851179_a  rs17125944_c  rs10498633_t  rs3764650_g  \\\n",
       "0           NaN ...           NaN           NaN           NaN          NaN   \n",
       "1       0.95116 ...           NaN           NaN           NaN          NaN   \n",
       "2       0.89655 ...           NaN           NaN           NaN          NaN   \n",
       "3       0.89788 ...           NaN           NaN           NaN          NaN   \n",
       "4       0.70803 ...           NaN           NaN           NaN          NaN   \n",
       "\n",
       "   rs3865444_t  rs2718058_g  fdg  pib  av45  tiv  \n",
       "0          NaN          NaN  NaN  NaN   NaN  NaN  \n",
       "1          NaN          NaN  NaN  NaN   NaN  NaN  \n",
       "2          NaN          NaN  NaN  NaN   NaN  NaN  \n",
       "3          NaN          NaN  NaN  NaN   NaN  NaN  \n",
       "4          NaN          NaN  NaN  NaN   NaN  NaN  \n",
       "\n",
       "[5 rows x 169 columns]"
      ]
     },
     "execution_count": 1,
     "metadata": {},
     "output_type": "execute_result"
    }
   ],
   "source": [
    "import pandas as pd\n",
    "import statsmodels.formula.api as sm\n",
    "from statsmodels.stats.anova import anova_lm\n",
    "\n",
    "data = pd.read_csv('Data/desd-synthdata.csv')\n",
    "data.head()"
   ]
  },
  {
   "cell_type": "markdown",
   "metadata": {},
   "source": [
    "Show the results of ANOVA in a workable format for publication."
   ]
  },
  {
   "cell_type": "code",
   "execution_count": 2,
   "metadata": {},
   "outputs": [
    {
     "data": {
      "text/html": [
       "<div>\n",
       "<style scoped>\n",
       "    .dataframe tbody tr th:only-of-type {\n",
       "        vertical-align: middle;\n",
       "    }\n",
       "\n",
       "    .dataframe tbody tr th {\n",
       "        vertical-align: top;\n",
       "    }\n",
       "\n",
       "    .dataframe thead th {\n",
       "        text-align: right;\n",
       "    }\n",
       "</style>\n",
       "<table border=\"1\" class=\"dataframe\">\n",
       "  <thead>\n",
       "    <tr style=\"text-align: right;\">\n",
       "      <th></th>\n",
       "      <th>df</th>\n",
       "      <th>sum_sq</th>\n",
       "      <th>mean_sq</th>\n",
       "      <th>F</th>\n",
       "      <th>PR(&gt;F)</th>\n",
       "    </tr>\n",
       "  </thead>\n",
       "  <tbody>\n",
       "    <tr>\n",
       "      <th>C(gender)</th>\n",
       "      <td>1.0</td>\n",
       "      <td>19.602861</td>\n",
       "      <td>19.602861</td>\n",
       "      <td>154.622448</td>\n",
       "      <td>6.734873e-33</td>\n",
       "    </tr>\n",
       "    <tr>\n",
       "      <th>C(agegroup)</th>\n",
       "      <td>4.0</td>\n",
       "      <td>5.942986</td>\n",
       "      <td>1.485746</td>\n",
       "      <td>11.719195</td>\n",
       "      <td>2.763876e-09</td>\n",
       "    </tr>\n",
       "    <tr>\n",
       "      <th>C(gender):C(agegroup)</th>\n",
       "      <td>4.0</td>\n",
       "      <td>0.467794</td>\n",
       "      <td>0.116949</td>\n",
       "      <td>0.922461</td>\n",
       "      <td>4.501034e-01</td>\n",
       "    </tr>\n",
       "    <tr>\n",
       "      <th>Residual</th>\n",
       "      <td>910.0</td>\n",
       "      <td>115.368781</td>\n",
       "      <td>0.126779</td>\n",
       "      <td>NaN</td>\n",
       "      <td>NaN</td>\n",
       "    </tr>\n",
       "  </tbody>\n",
       "</table>\n",
       "</div>"
      ],
      "text/plain": [
       "                          df      sum_sq    mean_sq           F        PR(>F)\n",
       "C(gender)                1.0   19.602861  19.602861  154.622448  6.734873e-33\n",
       "C(agegroup)              4.0    5.942986   1.485746   11.719195  2.763876e-09\n",
       "C(gender):C(agegroup)    4.0    0.467794   0.116949    0.922461  4.501034e-01\n",
       "Residual               910.0  115.368781   0.126779         NaN           NaN"
      ]
     },
     "execution_count": 2,
     "metadata": {},
     "output_type": "execute_result"
    }
   ],
   "source": [
    "dep_var = \"righthippocampus\"\n",
    "indep_vars = \"C(gender) * C(agegroup)\"\n",
    "formula = str.format(\"%s ~ %s\" % (dep_var, indep_vars))\n",
    "lm = sm.ols(data = data, formula = formula).fit()\n",
    "anova_lm(lm)"
   ]
  },
  {
   "cell_type": "markdown",
   "metadata": {},
   "source": [
    "### Code limitations\n",
    "- It is not impossible to have more than 8 covariables.\n",
    "- It would be better to ensure that there is at least 10 measures in each cells.\n"
   ]
  },
  {
   "cell_type": "markdown",
   "metadata": {},
   "source": [
    "## Supplemntary test proposal\n",
    "### Data visualization"
   ]
  },
  {
   "cell_type": "markdown",
   "metadata": {},
   "source": [
    "The first proposal concerns the visualization of data. We can first display the distribution of each group. This is difficult when there is too many variables. "
   ]
  },
  {
   "cell_type": "code",
   "execution_count": 4,
   "metadata": {},
   "outputs": [
    {
     "data": {
      "image/png": "[encoded data removed]",
      "text/plain": [
       "<Figure size 1152x576 with 1 Axes>"
      ]
     },
     "metadata": {
      "needs_background": "light"
     },
     "output_type": "display_data"
    }
   ],
   "source": [
    "from matplotlib import pyplot as plt\n",
    "import seaborn as sns\n",
    "%matplotlib inline\n",
    "plt.rcParams['figure.figsize'] = (16,8)\n",
    "ax = sns.violinplot(x = \"agegroup\", y = \"lefthippocampus\", hue=\"gender\", data = data, split=True)\n",
    "#ax = sns.boxplot(x = \"agegroup\", y = \"lefthippocampus\", hue=\"gender\", data = data)"
   ]
  },
  {
   "cell_type": "markdown",
   "metadata": {},
   "source": [
    "We can also show the repartition of the sample in each group. To have a valid interpretation of the results of the ANOVA, the group must be balanced."
   ]
  },
  {
   "cell_type": "code",
   "execution_count": 5,
   "metadata": {},
   "outputs": [
    {
     "data": {
      "image/png": "[encoded data removed]",
      "text/plain": [
       "<Figure size 764.625x360 with 1 Axes>"
      ]
     },
     "metadata": {
      "needs_background": "light"
     },
     "output_type": "display_data"
    }
   ],
   "source": [
    "dataCount = data.groupby(['agegroup','gender']).size().reset_index(name='counts')\n",
    "ax = sns.catplot(x = \"agegroup\", y ='counts', hue = \"gender\", data = dataCount, aspect = 2., kind = 'bar')"
   ]
  },
  {
   "cell_type": "code",
   "execution_count": null,
   "metadata": {},
   "outputs": [],
   "source": []
  },
  {
   "cell_type": "markdown",
   "metadata": {},
   "source": [
    "### Test of normality\n",
    "First visualization of the quartile-quartile plot"
   ]
  },
  {
   "cell_type": "code",
   "execution_count": 6,
   "metadata": {},
   "outputs": [
    {
     "data": {
      "image/png": "[encoded data removed]",
      "text/plain": [
       "<Figure size 1152x576 with 1 Axes>"
      ]
     },
     "metadata": {
      "needs_background": "light"
     },
     "output_type": "display_data"
    }
   ],
   "source": [
    "import statsmodels.api as sm\n",
    "residu = lm.resid_pearson\n",
    "sm.qqplot(residu, fit = True, line = 'r');"
   ]
  },
  {
   "cell_type": "markdown",
   "metadata": {},
   "source": [
    "Now, we use the Shapiro-Wilk test (Shapiro & Wilk, 1965). The null hypothesis is that data are normally distributed."
   ]
  },
  {
   "cell_type": "code",
   "execution_count": 25,
   "metadata": {},
   "outputs": [
    {
     "name": "stdout",
     "output_type": "stream",
     "text": [
      "Statistic W = 0.9832820892333984, and p_value = 9.222330454861094e-09\n"
     ]
    }
   ],
   "source": [
    "from scipy import stats\n",
    "resultShapiro = stats.shapiro(residu)\n",
    "print('Statistic W = {}, and p_value = {}'.format(resultShapiro[0], resultShapiro[1]))"
   ]
  },
  {
   "cell_type": "markdown",
   "metadata": {},
   "source": [
    "### Test of variance homogeneity\n",
    "\n",
    "The Levene test tests the null hypothesis that all input samples are from populations with equal variances. Levene’s test is an alternative to Bartlett’s test bartlett in the case where there are significant deviations from normality."
   ]
  },
  {
   "cell_type": "code",
   "execution_count": 39,
   "metadata": {},
   "outputs": [
    {
     "data": {
      "text/plain": [
       "array([   nan,    nan, 2.5777, 3.5674, 2.6663,    nan, 2.6776, 2.9787,\n",
       "       3.0083, 2.8952, 2.9435, 2.3865,    nan, 3.0832, 3.0738, 3.2747,\n",
       "       2.3976, 2.577 , 3.3746, 3.4302, 3.0577, 3.135 ,    nan, 3.1069,\n",
       "       2.8124,    nan, 3.1706, 2.9131, 3.2871, 2.9132, 3.0569, 2.6776,\n",
       "       2.7905, 3.0452, 2.7706, 3.1929, 2.4995, 3.5729, 1.3047, 3.0505,\n",
       "       2.8601, 3.2196, 3.0423, 3.0054, 2.7243, 2.0602, 2.5595, 3.0937,\n",
       "       2.822 , 3.3601, 2.7936, 2.783 , 3.0792, 3.0526, 2.4588, 2.3964,\n",
       "       2.8438, 3.0802, 2.7243, 3.0832, 3.0738, 3.0562, 2.0491, 2.7014,\n",
       "       3.0418, 3.0832, 2.886 , 2.7707, 3.2736,    nan, 3.0874, 3.1564,\n",
       "       3.0832, 3.0114, 2.5693, 2.9098, 3.0792,    nan, 3.0832, 3.0149,\n",
       "          nan, 3.1767, 3.1564, 2.4588,    nan, 2.8019, 2.8595, 2.654 ,\n",
       "       3.1069, 3.1275, 3.1564, 3.5866, 2.9947, 3.1302, 2.9947,    nan,\n",
       "       2.8613, 2.4995, 2.8482, 2.7632, 2.4742, 2.7273, 3.0646, 2.7187,\n",
       "       2.822 , 3.2571, 2.454 , 2.8231])"
      ]
     },
     "execution_count": 39,
     "metadata": {},
     "output_type": "execute_result"
    }
   ],
   "source": [
    "import numpy as np\n",
    "dataToEval = data.groupby(['agegroup','gender'], as_index=False)['lefthippocampus'].apply(np.hstack)\n",
    "dataToEval['-50y','F']\n",
    "dataF = dataToEval['-50y','F']\n",
    "#resultLevene = stats.levene(dataToEval[['-50y','F'], dataToEval['-50y','M']])\n",
    "#print('Statistic = {}, and p_value = {}'.format(resultLevene[0], resultLevene[1]))"
   ]
  },
  {
   "cell_type": "code",
   "execution_count": null,
   "metadata": {},
   "outputs": [],
   "source": []
  }
 ],
 "metadata": {
  "kernelspec": {
   "display_name": "Python 3",
   "language": "python",
   "name": "python3"
  },
  "language_info": {
   "codemirror_mode": {
    "name": "ipython",
    "version": 3
   },
   "file_extension": ".py",
   "mimetype": "text/x-python",
   "name": "python",
   "nbconvert_exporter": "python",
   "pygments_lexer": "ipython3",
   "version": "3.7.1"
  }
 },
 "nbformat": 4,
 "nbformat_minor": 2
}
